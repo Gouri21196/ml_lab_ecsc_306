{
 "cells": [
  {
   "cell_type": "code",
   "execution_count": 2,
   "metadata": {},
   "outputs": [
    {
     "name": "stdout",
     "output_type": "stream",
     "text": [
      "mean p\n",
      "3.3575\n",
      "mean q\n",
      "6.8875\n",
      "[[-0.02750015 -1.35750008  0.14249992  1.24249983]]\n",
      "[[-2.33749962  0.61250019  0.11250019  1.61250019]]\n",
      "[[  7.56258378e-04   1.84280646e+00   2.03062277e-02   1.54380584e+00]]\n",
      "variance\n",
      "3.40767\n",
      "[[ 15.1515007   15.          24.5         39.09999847]]\n",
      "covarience\n",
      "93.7515\n"
     ]
    }
   ],
   "source": [
    "import tensorflow as tf\n",
    "\n",
    "p=tf.constant([3.33,2.0,3.5,4.6],shape=[1,4],name='x')\n",
    "q=tf.constant([4.55,7.5,7.0,8.5],shape=[1,4],name='y')\n",
    "\n",
    "with tf.name_scope(\"mean\"):\n",
    "    with tf.name_scope(\"mean_x_y\"):\n",
    "        x1=tf.reduce_mean(p)\n",
    "        y1=tf.reduce_mean(q)\n",
    "        sess=tf.Session()\n",
    "        print(\"mean p\")\n",
    "    print(sess.run(x1))\n",
    "    print(\"mean q\")\n",
    "    print(sess.run(y1))\n",
    "   \n",
    "with tf.name_scope(\"variance\"):\n",
    "    with tf.name_scope(\"scope_sub1\"):\n",
    "        a=tf.subtract(p,x1)\n",
    "        sess1=tf.Session()\n",
    "    print(sess1.run(a))\n",
    "    with tf.name_scope(\"scope_sub2\"):\n",
    "        b=tf.subtract(q,y1)\n",
    "        sess2=tf.Session()\n",
    "    print(sess2.run(b))\n",
    "    with tf.name_scope(\"scope_square\"):\n",
    "        a1=tf.multiply(a,a)\n",
    "        sess3=tf.Session()\n",
    "    print(sess3.run(a1))\n",
    "    with tf.name_scope(\"scope_summation\"):\n",
    "        var=tf.reduce_sum(a1)\n",
    "        sess4=tf.Session()\n",
    "        print(\"variance\")\n",
    "    print(sess4.run(var))\n",
    "   \n",
    "with tf.name_scope(\"covariance\"):\n",
    "    with tf.name_scope(\"multiplication\"):\n",
    "        mul1=tf.multiply(p,q)\n",
    "        sess5=tf.Session()\n",
    "    print(sess5.run(mul1))\n",
    "    with tf.name_scope(\"scope_summation2\"):\n",
    "        covar=tf.reduce_sum(mul1)\n",
    "        sess6=tf.Session()\n",
    "        print(\"covarience\")\n",
    "    print(sess6.run(covar))\n"
   ]
  },
  {
   "cell_type": "code",
   "execution_count": 3,
   "metadata": {},
   "outputs": [
    {
     "name": "stdout",
     "output_type": "stream",
     "text": [
      "4\n"
     ]
    }
   ],
   "source": [
    "import tensorflow as tf\n",
    "x=tf.constant(7)\n",
    "y=tf.constant(5)\n",
    "with tf.name_scope(\"MyOperationGroup\"):\n",
    "    with tf.name_scope(\"Scope_A\"):\n",
    "        a = tf.multiply(x,x)\n",
    "        b = tf.multiply(y,y)\n",
    "with tf.name_scope(\"Scope_B\"):\n",
    "    c = tf.add(a, b, name=\"And_These_ones\")\n",
    "    d = tf.multiply(x, y, name=\"Multiply_these_numbers\")\n",
    "\n",
    "with tf.name_scope(\"Scope_C\"):\n",
    "    e = tf.multiply(2, d, name=\"B_add\")\n",
    "\n",
    "g = tf.subtract(c,e)\n",
    "\n",
    "with tf.Session() as sess:\n",
    "    writer = tf.summary.FileWriter(\"/tmp/tboard/output_3\", sess.graph)\n",
    "    print(sess.run(g))\n",
    "    writer.close()"
   ]
  },
  {
   "cell_type": "code",
   "execution_count": 4,
   "metadata": {},
   "outputs": [
    {
     "name": "stdout",
     "output_type": "stream",
     "text": [
      "72\n"
     ]
    }
   ],
   "source": [
    "import tensorflow as tf\n",
    "x=tf.constant(4)\n",
    "y=tf.constant(2)\n",
    "with tf.name_scope(\"MyOperationGroup\"):\n",
    "    with tf.name_scope(\"Scope_A\"):\n",
    "        a = tf.multiply(x,x)\n",
    "        b = tf.multiply(y,y) \n",
    "with tf.name_scope(\"Scope_B\"):\n",
    "    c = tf.add(a, b, name=\"And_These_ones\")\n",
    "    d = tf.multiply(x, y, name=\"Multiply_these_numbers\")\n",
    "\n",
    "with tf.name_scope(\"Scope_C\"):\n",
    "    e=tf.subtract(c,d, name=\"subtrating\")\n",
    "    f=tf.add(x,y)\n",
    "  \n",
    "with tf.name_scope(\"Scope_D\"):\n",
    "    g = tf.multiply(f,e)\n",
    "\n",
    "\n",
    "with tf.Session() as sess:\n",
    "    writer = tf.summary.FileWriter(\"/tmp/tboard/output_1\", sess.graph)\n",
    "    print(sess.run(g))\n",
    "    writer.close()"
   ]
  },
  {
   "cell_type": "code",
   "execution_count": null,
   "metadata": {
    "collapsed": true
   },
   "outputs": [],
   "source": []
  }
 ],
 "metadata": {
  "kernelspec": {
   "display_name": "Python 3",
   "language": "python",
   "name": "python3"
  },
  "language_info": {
   "codemirror_mode": {
    "name": "ipython",
    "version": 3
   },
   "file_extension": ".py",
   "mimetype": "text/x-python",
   "name": "python",
   "nbconvert_exporter": "python",
   "pygments_lexer": "ipython3",
   "version": "3.6.1"
  }
 },
 "nbformat": 4,
 "nbformat_minor": 2
}
